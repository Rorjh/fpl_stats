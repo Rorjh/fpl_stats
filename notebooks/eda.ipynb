{
 "cells": [
  {
   "cell_type": "code",
   "execution_count": 1,
   "metadata": {},
   "outputs": [],
   "source": [
    "import pandas as pd\n",
    "import requests, json\n",
    "import matplotlib.pyplot as plt\n",
    "from bs4 import BeautifulSoup"
   ]
  },
  {
   "cell_type": "code",
   "execution_count": 2,
   "metadata": {},
   "outputs": [],
   "source": [
    "seasons = pd.read_csv(\"https://raw.githubusercontent.com/JaseZiv/worldfootballR_data/master/raw-data/all_leages_and_cups/all_competitions.csv\")"
   ]
  },
  {
   "cell_type": "code",
   "execution_count": 3,
   "metadata": {},
   "outputs": [],
   "source": [
    "seasons = seasons[(seasons.country == 'ENG') & (seasons.tier == '1st') & (seasons.gender == 'M')]"
   ]
  },
  {
   "cell_type": "code",
   "execution_count": 29,
   "metadata": {},
   "outputs": [],
   "source": [
    "seasons"
   ]
  },
  {
   "cell_type": "code",
   "execution_count": 24,
   "metadata": {},
   "outputs": [
    {
     "name": "stderr",
     "output_type": "stream",
     "text": [
      "c:\\projects\\fpl_stats\\venv\\Lib\\site-packages\\urllib3\\connectionpool.py:1095: InsecureRequestWarning: Unverified HTTPS request is being made to host 'fbref.com'. Adding certificate verification is strongly advised. See: https://urllib3.readthedocs.io/en/latest/advanced-usage.html#tls-warnings\n",
      "  warnings.warn(\n",
      "c:\\projects\\fpl_stats\\venv\\Lib\\site-packages\\urllib3\\connectionpool.py:1095: InsecureRequestWarning: Unverified HTTPS request is being made to host 'fbref.com'. Adding certificate verification is strongly advised. See: https://urllib3.readthedocs.io/en/latest/advanced-usage.html#tls-warnings\n",
      "  warnings.warn(\n"
     ]
    },
    {
     "data": {
      "text/plain": [
       "{'William Saliba': '/en/players/972aeb2a/William-Saliba',\n",
       " 'Declan Rice': '/en/players/1c7012b8/Declan-Rice',\n",
       " 'Bukayo Saka': '/en/players/bc7dc64d/Bukayo-Saka',\n",
       " 'Martin Ødegaard': '/en/players/79300479/Martin-Odegaard',\n",
       " 'Ben White': '/en/players/35e413f1/Ben-White',\n",
       " 'Gabriel Dos Santos': '/en/players/67ac5bb8/Gabriel-Dos-Santos',\n",
       " 'Gabriel Martinelli': '/en/players/48a5a5d6/Gabriel-Martinelli',\n",
       " 'David Raya': '/en/players/98ea5115/David-Raya',\n",
       " 'Kai Havertz': '/en/players/fed7cb61/Kai-Havertz',\n",
       " 'Oleksandr Zinchenko': '/en/players/51cf8561/Oleksandr-Zinchenko',\n",
       " 'Gabriel Jesus': '/en/players/b66315ae/Gabriel-Jesus',\n",
       " 'Eddie Nketiah': '/en/players/a53649b7/Eddie-Nketiah',\n",
       " 'Leandro Trossard': '/en/players/38ceb24a/Leandro-Trossard',\n",
       " 'Jakub Kiwior': '/en/players/dc3e663e/Jakub-Kiwior',\n",
       " 'Jorginho': '/en/players/45db685d/Jorginho',\n",
       " 'Takehiro Tomiyasu': '/en/players/b3af9be1/Takehiro-Tomiyasu',\n",
       " 'Aaron Ramsdale': '/en/players/466fb2c5/Aaron-Ramsdale',\n",
       " 'Thomas Partey': '/en/players/529f49ab/Thomas-Partey',\n",
       " 'Fabio Vieira': '/en/players/6412cc03/Fabio-Vieira',\n",
       " 'Emile Smith Rowe': '/en/players/17695062/Emile-Smith-Rowe',\n",
       " 'Jurriën Timber': '/en/players/41034650/Jurrien-Timber',\n",
       " 'Reiss Nelson': '/en/players/c5bdb6e3/Reiss-Nelson',\n",
       " 'Cédric Soares': '/en/players/839c14e1/Cedric-Soares',\n",
       " 'Mohamed Elneny': '/en/players/47a34c4f/Mohamed-Elneny',\n",
       " 'Ethan Nwaneri': '/en/players/7f94982c/Ethan-Nwaneri',\n",
       " 'Mauro Bandeira': '/en/players/9b67eca8/Mauro-Bandeira',\n",
       " 'Bradley Ibrahim': '/en/players/aaab4602/Bradley-Ibrahim',\n",
       " 'Karl Jakob Hein': '/en/players/aa81d8f8/Karl-Jakob-Hein',\n",
       " 'Myles Lewis-Skelly': '/en/players/5dff6c28/Myles-Lewis-Skelly',\n",
       " 'Charles Sagoe Jr': '/en/players/187ab096/Charles-Sagoe-Jr',\n",
       " 'James Sweet': '/en/players/d4632cfa/James-Sweet',\n",
       " 'Reuell Walters': '/en/players/501ac0cc/Reuell-Walters'}"
      ]
     },
     "execution_count": 24,
     "metadata": {},
     "output_type": "execute_result"
    }
   ],
   "source": [
    "def get_player_matchlogs(url):\n",
    "    r = requests.get(url, verify=False)\n",
    "    soup = BeautifulSoup(r.content, 'html.parser')\n",
    "    table = soup.find('table', id='matchlogs')\n",
    "    match_logs = pd.read_html(str(table))[0]\n",
    "    match_logs = match_logs.dropna()\n",
    "    return match_logs\n",
    "\n",
    "def get_league_url(country, gender, season_end_year, tier):\n",
    "    seasons = pd.read_csv(\"https://raw.githubusercontent.com/JaseZiv/worldfootballR_data/master/raw-data/all_leages_and_cups/all_competitions.csv\")\n",
    "    seasons = seasons[(seasons.country == country) & (seasons.tier == tier) & (seasons.gender == gender) & (seasons.season_end_year == season_end_year)]\n",
    "    return seasons.seasons_urls.iloc[0]\n",
    "\n",
    "def get_teams_urls(league_url):\n",
    "    r = requests.get(league_url, verify=False)\n",
    "    soup = BeautifulSoup(r.content, 'html.parser')\n",
    "    table = soup.find('table', id='stats_squads_standard_for')\n",
    "    urls = table.find_all('a')\n",
    "    urls = {link.text:link.get('href') for link in urls}\n",
    "    return urls\n",
    "\n",
    "def get_players_urls(team_url):\n",
    "    url_base = 'https://fbref.com/'\n",
    "    r = requests.get(url_base+team_url, verify=False)\n",
    "    soup = BeautifulSoup(r.content, 'html.parser')\n",
    "    table = soup.find('table', id='stats_standard_9')\n",
    "    ths = table.find_all('th')\n",
    "    urls = [th.find('a') for th in ths]\n",
    "    urls = [url for url in urls if url is not None]\n",
    "    urls = {link.text:link.get('href') for link in urls}\n",
    "    return urls\n",
    "\n",
    "def get_scouting_report(player_url):\n",
    "    url_base = 'https://fbref.com/'\n",
    "    r = requests.get(url_base+player_url, verify=False)\n",
    "    soup = BeautifulSoup(r.content, 'html.parser')\n",
    "    table = soup.find('table', id=lambda value: value and value.startswith('scout_summary_'))\n",
    "    scouting_report = pd.read_html(str(table))[0]\n",
    "    scouting_report = scouting_report.dropna()\n",
    "    return scouting_report\n",
    "\n",
    "league_url = get_league_url(country = \"ENG\", gender = \"M\", season_end_year = 2024, tier = '1st')\n",
    "teams_urls = get_teams_urls(league_url)\n",
    "players_urls = get_players_urls(teams_urls['Arsenal'])\n",
    "players_urls\n"
   ]
  },
  {
   "cell_type": "code",
   "execution_count": 25,
   "metadata": {},
   "outputs": [
    {
     "data": {
      "text/plain": [
       "{'Arsenal': '/en/squads/18bb7c10/Arsenal-Stats',\n",
       " 'Aston Villa': '/en/squads/8602292d/Aston-Villa-Stats',\n",
       " 'Bournemouth': '/en/squads/4ba7cbea/Bournemouth-Stats',\n",
       " 'Brentford': '/en/squads/cd051869/Brentford-Stats',\n",
       " 'Brighton': '/en/squads/d07537b9/Brighton-and-Hove-Albion-Stats',\n",
       " 'Burnley': '/en/squads/943e8050/Burnley-Stats',\n",
       " 'Chelsea': '/en/squads/cff3d9bb/Chelsea-Stats',\n",
       " 'Crystal Palace': '/en/squads/47c64c55/Crystal-Palace-Stats',\n",
       " 'Everton': '/en/squads/d3fd31cc/Everton-Stats',\n",
       " 'Fulham': '/en/squads/fd962109/Fulham-Stats',\n",
       " 'Liverpool': '/en/squads/822bd0ba/Liverpool-Stats',\n",
       " 'Luton Town': '/en/squads/e297cd13/Luton-Town-Stats',\n",
       " 'Manchester City': '/en/squads/b8fd03ef/Manchester-City-Stats',\n",
       " 'Manchester Utd': '/en/squads/19538871/Manchester-United-Stats',\n",
       " 'Newcastle Utd': '/en/squads/b2b47a98/Newcastle-United-Stats',\n",
       " \"Nott'ham Forest\": '/en/squads/e4a775cb/Nottingham-Forest-Stats',\n",
       " 'Sheffield Utd': '/en/squads/1df6b87e/Sheffield-United-Stats',\n",
       " 'Tottenham': '/en/squads/361ca564/Tottenham-Hotspur-Stats',\n",
       " 'West Ham': '/en/squads/7c21e445/West-Ham-United-Stats',\n",
       " 'Wolves': '/en/squads/8cec06e1/Wolverhampton-Wanderers-Stats'}"
      ]
     },
     "execution_count": 25,
     "metadata": {},
     "output_type": "execute_result"
    }
   ],
   "source": [
    "teams_urls"
   ]
  },
  {
   "cell_type": "code",
   "execution_count": null,
   "metadata": {},
   "outputs": [],
   "source": [
    "get_scouting_report(players_urls['Kai Havertz'])"
   ]
  },
  {
   "cell_type": "code",
   "execution_count": 26,
   "metadata": {},
   "outputs": [],
   "source": [
    "from difflib import get_close_matches"
   ]
  },
  {
   "cell_type": "code",
   "execution_count": 28,
   "metadata": {},
   "outputs": [
    {
     "data": {
      "text/plain": [
       "['David Raya']"
      ]
     },
     "execution_count": 28,
     "metadata": {},
     "output_type": "execute_result"
    }
   ],
   "source": [
    "word = 'David Raya'\n",
    "patterns = players_urls.keys()\n",
    "get_close_matches(word, patterns)"
   ]
  },
  {
   "cell_type": "code",
   "execution_count": 30,
   "metadata": {},
   "outputs": [],
   "source": [
    "def get_players_data():\n",
    "    base_url = 'https://fantasy.premierleague.com/api/' \n",
    "    r = requests.get(base_url+'bootstrap-static/').json()\n",
    "    players = pd.DataFrame(r['elements'])\n",
    "    teams = pd.DataFrame(r['teams'])\n",
    "    players = players.merge(right=teams, left_on='team', right_on='id')\n",
    "    top_scorers = players[players.goals_scored != 0].sort_values('goals_scored', ascending=False)[['first_name','second_name','name','goals_scored','expected_goals']]\n",
    "    top_assisters = players[players.assists != 0].sort_values('assists', ascending=False)[['first_name','second_name','name','assists','expected_assists']]\n",
    "    players['now_cost'] = players['now_cost'] / 10\n",
    "    positions = pd.DataFrame(r['element_types'])\n",
    "    players = players.merge(right=positions, left_on='element_type', right_on='id')\n",
    "    players['expected_goal_involvements'] = players['expected_goal_involvements'].astype(float)\n",
    "    players['expected_goals_conceded'] = players['expected_goals_conceded'].astype(float)\n",
    "    players['full_name'] = players['first_name']+' '+players['second_name']\n",
    "\n",
    "    return players\n",
    "\n",
    "players_fpl = get_players_data()"
   ]
  },
  {
   "cell_type": "code",
   "execution_count": 36,
   "metadata": {},
   "outputs": [
    {
     "name": "stderr",
     "output_type": "stream",
     "text": [
      "c:\\projects\\fpl_stats\\venv\\Lib\\site-packages\\urllib3\\connectionpool.py:1095: InsecureRequestWarning: Unverified HTTPS request is being made to host 'fbref.com'. Adding certificate verification is strongly advised. See: https://urllib3.readthedocs.io/en/latest/advanced-usage.html#tls-warnings\n",
      "  warnings.warn(\n"
     ]
    }
   ],
   "source": [
    "report = get_scouting_report(players_urls['Kai Havertz'])"
   ]
  },
  {
   "cell_type": "code",
   "execution_count": 37,
   "metadata": {},
   "outputs": [
    {
     "data": {
      "text/html": [
       "<div>\n",
       "<style scoped>\n",
       "    .dataframe tbody tr th:only-of-type {\n",
       "        vertical-align: middle;\n",
       "    }\n",
       "\n",
       "    .dataframe tbody tr th {\n",
       "        vertical-align: top;\n",
       "    }\n",
       "\n",
       "    .dataframe thead th {\n",
       "        text-align: right;\n",
       "    }\n",
       "</style>\n",
       "<table border=\"1\" class=\"dataframe\">\n",
       "  <thead>\n",
       "    <tr style=\"text-align: right;\">\n",
       "      <th></th>\n",
       "      <th>Statistic</th>\n",
       "      <th>Per 90</th>\n",
       "      <th>Percentile</th>\n",
       "    </tr>\n",
       "  </thead>\n",
       "  <tbody>\n",
       "    <tr>\n",
       "      <th>0</th>\n",
       "      <td>Non-Penalty Goals</td>\n",
       "      <td>0.20</td>\n",
       "      <td>91.0</td>\n",
       "    </tr>\n",
       "    <tr>\n",
       "      <th>1</th>\n",
       "      <td>npxG: Non-Penalty xG</td>\n",
       "      <td>0.35</td>\n",
       "      <td>99.0</td>\n",
       "    </tr>\n",
       "    <tr>\n",
       "      <th>2</th>\n",
       "      <td>Shots Total</td>\n",
       "      <td>2.26</td>\n",
       "      <td>96.0</td>\n",
       "    </tr>\n",
       "    <tr>\n",
       "      <th>3</th>\n",
       "      <td>Assists</td>\n",
       "      <td>0.06</td>\n",
       "      <td>40.0</td>\n",
       "    </tr>\n",
       "    <tr>\n",
       "      <th>4</th>\n",
       "      <td>xAG: Exp. Assisted Goals</td>\n",
       "      <td>0.12</td>\n",
       "      <td>69.0</td>\n",
       "    </tr>\n",
       "    <tr>\n",
       "      <th>5</th>\n",
       "      <td>npxG + xAG</td>\n",
       "      <td>0.47</td>\n",
       "      <td>98.0</td>\n",
       "    </tr>\n",
       "    <tr>\n",
       "      <th>6</th>\n",
       "      <td>Shot-Creating Actions</td>\n",
       "      <td>2.74</td>\n",
       "      <td>65.0</td>\n",
       "    </tr>\n",
       "    <tr>\n",
       "      <th>8</th>\n",
       "      <td>Passes Attempted</td>\n",
       "      <td>33.86</td>\n",
       "      <td>8.0</td>\n",
       "    </tr>\n",
       "    <tr>\n",
       "      <th>9</th>\n",
       "      <td>Pass Completion %</td>\n",
       "      <td>83.0%</td>\n",
       "      <td>50.0</td>\n",
       "    </tr>\n",
       "    <tr>\n",
       "      <th>10</th>\n",
       "      <td>Progressive Passes</td>\n",
       "      <td>3.95</td>\n",
       "      <td>30.0</td>\n",
       "    </tr>\n",
       "    <tr>\n",
       "      <th>11</th>\n",
       "      <td>Progressive Carries</td>\n",
       "      <td>2.01</td>\n",
       "      <td>77.0</td>\n",
       "    </tr>\n",
       "    <tr>\n",
       "      <th>12</th>\n",
       "      <td>Successful Take-Ons</td>\n",
       "      <td>0.65</td>\n",
       "      <td>46.0</td>\n",
       "    </tr>\n",
       "    <tr>\n",
       "      <th>13</th>\n",
       "      <td>Touches (Att Pen)</td>\n",
       "      <td>5.14</td>\n",
       "      <td>99.0</td>\n",
       "    </tr>\n",
       "    <tr>\n",
       "      <th>14</th>\n",
       "      <td>Progressive Passes Rec</td>\n",
       "      <td>6.61</td>\n",
       "      <td>98.0</td>\n",
       "    </tr>\n",
       "    <tr>\n",
       "      <th>16</th>\n",
       "      <td>Tackles</td>\n",
       "      <td>1.36</td>\n",
       "      <td>9.0</td>\n",
       "    </tr>\n",
       "    <tr>\n",
       "      <th>17</th>\n",
       "      <td>Interceptions</td>\n",
       "      <td>0.48</td>\n",
       "      <td>7.0</td>\n",
       "    </tr>\n",
       "    <tr>\n",
       "      <th>18</th>\n",
       "      <td>Blocks</td>\n",
       "      <td>0.99</td>\n",
       "      <td>26.0</td>\n",
       "    </tr>\n",
       "    <tr>\n",
       "      <th>19</th>\n",
       "      <td>Clearances</td>\n",
       "      <td>0.90</td>\n",
       "      <td>29.0</td>\n",
       "    </tr>\n",
       "    <tr>\n",
       "      <th>20</th>\n",
       "      <td>Aerials Won</td>\n",
       "      <td>2.77</td>\n",
       "      <td>97.0</td>\n",
       "    </tr>\n",
       "  </tbody>\n",
       "</table>\n",
       "</div>"
      ],
      "text/plain": [
       "                   Statistic Per 90  Percentile\n",
       "0          Non-Penalty Goals   0.20        91.0\n",
       "1       npxG: Non-Penalty xG   0.35        99.0\n",
       "2                Shots Total   2.26        96.0\n",
       "3                    Assists   0.06        40.0\n",
       "4   xAG: Exp. Assisted Goals   0.12        69.0\n",
       "5                 npxG + xAG   0.47        98.0\n",
       "6      Shot-Creating Actions   2.74        65.0\n",
       "8           Passes Attempted  33.86         8.0\n",
       "9          Pass Completion %  83.0%        50.0\n",
       "10        Progressive Passes   3.95        30.0\n",
       "11       Progressive Carries   2.01        77.0\n",
       "12       Successful Take-Ons   0.65        46.0\n",
       "13         Touches (Att Pen)   5.14        99.0\n",
       "14    Progressive Passes Rec   6.61        98.0\n",
       "16                   Tackles   1.36         9.0\n",
       "17             Interceptions   0.48         7.0\n",
       "18                    Blocks   0.99        26.0\n",
       "19                Clearances   0.90        29.0\n",
       "20               Aerials Won   2.77        97.0"
      ]
     },
     "execution_count": 37,
     "metadata": {},
     "output_type": "execute_result"
    }
   ],
   "source": [
    "report"
   ]
  },
  {
   "cell_type": "code",
   "execution_count": 42,
   "metadata": {},
   "outputs": [
    {
     "name": "stderr",
     "output_type": "stream",
     "text": [
      "c:\\projects\\fpl_stats\\venv\\Lib\\site-packages\\urllib3\\connectionpool.py:1095: InsecureRequestWarning: Unverified HTTPS request is being made to host 'fbref.com'. Adding certificate verification is strongly advised. See: https://urllib3.readthedocs.io/en/latest/advanced-usage.html#tls-warnings\n",
      "  warnings.warn(\n"
     ]
    },
    {
     "data": {
      "text/html": [
       "<div>\n",
       "<style scoped>\n",
       "    .dataframe tbody tr th:only-of-type {\n",
       "        vertical-align: middle;\n",
       "    }\n",
       "\n",
       "    .dataframe tbody tr th {\n",
       "        vertical-align: top;\n",
       "    }\n",
       "\n",
       "    .dataframe thead th {\n",
       "        text-align: right;\n",
       "    }\n",
       "</style>\n",
       "<table border=\"1\" class=\"dataframe\">\n",
       "  <thead>\n",
       "    <tr style=\"text-align: right;\">\n",
       "      <th></th>\n",
       "      <th>Statistic</th>\n",
       "      <th>Per 90</th>\n",
       "      <th>Percentile</th>\n",
       "    </tr>\n",
       "  </thead>\n",
       "  <tbody>\n",
       "    <tr>\n",
       "      <th>0</th>\n",
       "      <td>PSxG-GA</td>\n",
       "      <td>-0.02</td>\n",
       "      <td>45.0</td>\n",
       "    </tr>\n",
       "    <tr>\n",
       "      <th>1</th>\n",
       "      <td>Goals Against</td>\n",
       "      <td>0.93</td>\n",
       "      <td>89.0</td>\n",
       "    </tr>\n",
       "    <tr>\n",
       "      <th>2</th>\n",
       "      <td>Save Percentage</td>\n",
       "      <td>72.6%</td>\n",
       "      <td>57.0</td>\n",
       "    </tr>\n",
       "    <tr>\n",
       "      <th>3</th>\n",
       "      <td>PSxG/SoT</td>\n",
       "      <td>0.25</td>\n",
       "      <td>15.0</td>\n",
       "    </tr>\n",
       "    <tr>\n",
       "      <th>4</th>\n",
       "      <td>Save% (Penalty Kicks)</td>\n",
       "      <td>33.3%</td>\n",
       "      <td>81.0</td>\n",
       "    </tr>\n",
       "    <tr>\n",
       "      <th>5</th>\n",
       "      <td>Clean Sheet Percentage</td>\n",
       "      <td>35.7%</td>\n",
       "      <td>79.0</td>\n",
       "    </tr>\n",
       "    <tr>\n",
       "      <th>7</th>\n",
       "      <td>Touches</td>\n",
       "      <td>38.45</td>\n",
       "      <td>59.0</td>\n",
       "    </tr>\n",
       "    <tr>\n",
       "      <th>8</th>\n",
       "      <td>Launch %</td>\n",
       "      <td>39.3%</td>\n",
       "      <td>65.0</td>\n",
       "    </tr>\n",
       "    <tr>\n",
       "      <th>9</th>\n",
       "      <td>Goal Kicks</td>\n",
       "      <td>4.26</td>\n",
       "      <td>4.0</td>\n",
       "    </tr>\n",
       "    <tr>\n",
       "      <th>10</th>\n",
       "      <td>Avg. Length of Goal Kicks</td>\n",
       "      <td>47.9</td>\n",
       "      <td>74.0</td>\n",
       "    </tr>\n",
       "    <tr>\n",
       "      <th>12</th>\n",
       "      <td>Crosses Stopped %</td>\n",
       "      <td>11.6%</td>\n",
       "      <td>98.0</td>\n",
       "    </tr>\n",
       "    <tr>\n",
       "      <th>13</th>\n",
       "      <td>Def. Actions Outside Pen. Area</td>\n",
       "      <td>1.57</td>\n",
       "      <td>83.0</td>\n",
       "    </tr>\n",
       "    <tr>\n",
       "      <th>14</th>\n",
       "      <td>Avg. Distance of Def. Actions</td>\n",
       "      <td>17.2</td>\n",
       "      <td>88.0</td>\n",
       "    </tr>\n",
       "  </tbody>\n",
       "</table>\n",
       "</div>"
      ],
      "text/plain": [
       "                         Statistic Per 90  Percentile\n",
       "0                          PSxG-GA  -0.02        45.0\n",
       "1                    Goals Against   0.93        89.0\n",
       "2                  Save Percentage  72.6%        57.0\n",
       "3                         PSxG/SoT   0.25        15.0\n",
       "4            Save% (Penalty Kicks)  33.3%        81.0\n",
       "5           Clean Sheet Percentage  35.7%        79.0\n",
       "7                          Touches  38.45        59.0\n",
       "8                         Launch %  39.3%        65.0\n",
       "9                       Goal Kicks   4.26         4.0\n",
       "10       Avg. Length of Goal Kicks   47.9        74.0\n",
       "12               Crosses Stopped %  11.6%        98.0\n",
       "13  Def. Actions Outside Pen. Area   1.57        83.0\n",
       "14   Avg. Distance of Def. Actions   17.2        88.0"
      ]
     },
     "execution_count": 42,
     "metadata": {},
     "output_type": "execute_result"
    }
   ],
   "source": [
    "get_scouting_report(players_urls['David Raya'])"
   ]
  },
  {
   "cell_type": "code",
   "execution_count": 41,
   "metadata": {},
   "outputs": [
    {
     "data": {
      "text/html": [
       "<div>\n",
       "<style scoped>\n",
       "    .dataframe tbody tr th:only-of-type {\n",
       "        vertical-align: middle;\n",
       "    }\n",
       "\n",
       "    .dataframe tbody tr th {\n",
       "        vertical-align: top;\n",
       "    }\n",
       "\n",
       "    .dataframe thead th {\n",
       "        text-align: right;\n",
       "    }\n",
       "</style>\n",
       "<table border=\"1\" class=\"dataframe\">\n",
       "  <thead>\n",
       "    <tr style=\"text-align: right;\">\n",
       "      <th></th>\n",
       "      <th>Statistic</th>\n",
       "      <th>Per 90</th>\n",
       "      <th>Percentile</th>\n",
       "    </tr>\n",
       "  </thead>\n",
       "  <tbody>\n",
       "    <tr>\n",
       "      <th>2</th>\n",
       "      <td>Shots Total</td>\n",
       "      <td>2.26</td>\n",
       "      <td>96.0</td>\n",
       "    </tr>\n",
       "    <tr>\n",
       "      <th>5</th>\n",
       "      <td>npxG + xAG</td>\n",
       "      <td>0.47</td>\n",
       "      <td>98.0</td>\n",
       "    </tr>\n",
       "    <tr>\n",
       "      <th>6</th>\n",
       "      <td>Shot-Creating Actions</td>\n",
       "      <td>2.74</td>\n",
       "      <td>65.0</td>\n",
       "    </tr>\n",
       "    <tr>\n",
       "      <th>11</th>\n",
       "      <td>Progressive Carries</td>\n",
       "      <td>2.01</td>\n",
       "      <td>77.0</td>\n",
       "    </tr>\n",
       "    <tr>\n",
       "      <th>14</th>\n",
       "      <td>Progressive Passes Rec</td>\n",
       "      <td>6.61</td>\n",
       "      <td>98.0</td>\n",
       "    </tr>\n",
       "  </tbody>\n",
       "</table>\n",
       "</div>"
      ],
      "text/plain": [
       "                 Statistic Per 90  Percentile\n",
       "2              Shots Total   2.26        96.0\n",
       "5               npxG + xAG   0.47        98.0\n",
       "6    Shot-Creating Actions   2.74        65.0\n",
       "11     Progressive Carries   2.01        77.0\n",
       "14  Progressive Passes Rec   6.61        98.0"
      ]
     },
     "execution_count": 41,
     "metadata": {},
     "output_type": "execute_result"
    }
   ],
   "source": [
    "attacking = report.iloc[[2,5,6,9,12]]\n",
    "deffending = report.iloc[[13,15,16,17]]\n",
    "goalkeeping = report.iloc[[0,2,3,4]]"
   ]
  },
  {
   "cell_type": "code",
   "execution_count": 46,
   "metadata": {},
   "outputs": [
    {
     "name": "stdout",
     "output_type": "stream",
     "text": [
      "Index(['chance_of_playing_next_round', 'chance_of_playing_this_round',\n",
      "       'code_x', 'cost_change_event', 'cost_change_event_fall',\n",
      "       'cost_change_start', 'cost_change_start_fall', 'dreamteam_count',\n",
      "       'element_type', 'ep_next',\n",
      "       ...\n",
      "       'plural_name_short', 'singular_name', 'singular_name_short',\n",
      "       'squad_select', 'squad_min_play', 'squad_max_play', 'ui_shirt_specific',\n",
      "       'sub_positions_locked', 'element_count', 'full_name'],\n",
      "      dtype='object', length=121)\n"
     ]
    }
   ],
   "source": [
    "print(players_fpl.columns)"
   ]
  },
  {
   "cell_type": "code",
   "execution_count": null,
   "metadata": {},
   "outputs": [],
   "source": []
  }
 ],
 "metadata": {
  "kernelspec": {
   "display_name": "venv",
   "language": "python",
   "name": "python3"
  },
  "language_info": {
   "codemirror_mode": {
    "name": "ipython",
    "version": 3
   },
   "file_extension": ".py",
   "mimetype": "text/x-python",
   "name": "python",
   "nbconvert_exporter": "python",
   "pygments_lexer": "ipython3",
   "version": "3.11.0"
  },
  "orig_nbformat": 4
 },
 "nbformat": 4,
 "nbformat_minor": 2
}
