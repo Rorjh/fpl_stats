{
 "cells": [
  {
   "cell_type": "code",
   "execution_count": 184,
   "metadata": {},
   "outputs": [],
   "source": [
    "import pandas as pd\n",
    "import numpy as np\n",
    "import requests, json\n",
    "import matplotlib.pyplot as plt\n",
    "from bs4 import BeautifulSoup\n",
    "from tqdm import tqdm\n",
    "from time import sleep\n",
    "\n",
    "import warnings\n",
    "warnings.filterwarnings('ignore')"
   ]
  },
  {
   "cell_type": "markdown",
   "metadata": {},
   "source": [
    "# Creating dataset"
   ]
  },
  {
   "cell_type": "markdown",
   "metadata": {},
   "source": [
    "Scrap matchlogs data from Fbref:"
   ]
  },
  {
   "cell_type": "code",
   "execution_count": 185,
   "metadata": {},
   "outputs": [],
   "source": [
    "def get_player_matchlogs(url):\n",
    "    r = requests.get(url, verify=False)\n",
    "    soup = BeautifulSoup(r.content, 'html.parser')\n",
    "    table = soup.find('table', id='matchlogs_all')\n",
    "    match_logs = pd.read_html(str(table))[0]\n",
    "    match_logs = match_logs.dropna()\n",
    "    return match_logs"
   ]
  },
  {
   "cell_type": "code",
   "execution_count": 186,
   "metadata": {},
   "outputs": [],
   "source": [
    "# seasons = [\n",
    "#     \"20-21\",\n",
    "#     \"21-22\",\n",
    "#     \"22-23\",\n",
    "#     \"23-24\"\n",
    "# ]\n",
    "\n",
    "# df = pd.DataFrame()\n",
    "# df_matchlogs = pd.DataFrame()\n",
    "# fbref_ids = pd.read_csv(\"https://raw.githubusercontent.com/ChrisMusson/FPL-ID-Map/main/FBRef.csv\")\n",
    "# failed_urls = []\n",
    "\n",
    "# for season in seasons:\n",
    "#     print(\"Gathering data, season \"+season)\n",
    "#     gws_seasonal = pd.read_csv(f\"https://raw.githubusercontent.com/vaastav/Fantasy-Premier-League/master/data/20{season}/gws/merged_gw.csv\")\n",
    "#     ids = pd.read_csv(f\"https://raw.githubusercontent.com/ChrisMusson/FPL-ID-Map/main/FPL/{season}.csv\")\n",
    "#     ids = ids.merge(fbref_ids.loc[:, ['code','fbref']], how='left', on='code')\n",
    "#     gws_seasonal = gws_seasonal.merge(ids.loc[:, ['code',season]], how='left', left_on='element', right_on=season)\n",
    "#     gws_seasonal = gws_seasonal.drop(season, axis=1)\n",
    "#     gws_seasonal = gws_seasonal.merge(ids.loc[:, [season,'fbref']], how='left', left_on='element', right_on=season)\n",
    "#     gws_seasonal.drop(season, axis=1)\n",
    "#     players = gws_seasonal[gws_seasonal['minutes']!=0][\"element\"].unique()\n",
    "#     print(len(players))\n",
    "#     for player in tqdm(players):\n",
    "#         fbref_id = ids.loc[ids[season]==player]['fbref'].iloc[0]\n",
    "#         code = ids.loc[ids[season]==player]['code'].iloc[0]\n",
    "#         season_string = \"-\".join([\"20\"+year for year in season.split(\"-\")])\n",
    "#         fbref_url = f\"https://fbref.com/en/players/{fbref_id}/matchlogs/{season_string}/\"\n",
    "#         try:\n",
    "#             match_logs = get_player_matchlogs(fbref_url)\n",
    "#             match_logs['code'] = code\n",
    "#             df_matchlogs = pd.concat([df_matchlogs, match_logs])\n",
    "#         except:\n",
    "#             failed_urls.append(fbref_url)\n",
    "#         sleep(4)\n",
    "#     df = pd.concat([df, gws_seasonal])"
   ]
  },
  {
   "cell_type": "markdown",
   "metadata": {},
   "source": [
    "Save datasets to files for future use:"
   ]
  },
  {
   "cell_type": "code",
   "execution_count": 187,
   "metadata": {},
   "outputs": [],
   "source": [
    "# df_matchlogs.to_csv('../data/fbref_matchlogs.csv')\n",
    "# df.to_csv('../data/gameweeks_fpl.csv')"
   ]
  },
  {
   "cell_type": "markdown",
   "metadata": {},
   "source": [
    "Load previously created datasets:"
   ]
  },
  {
   "cell_type": "code",
   "execution_count": 188,
   "metadata": {},
   "outputs": [],
   "source": [
    "df_matchlogs = pd.read_csv('../data/fbref_matchlogs.csv')\n",
    "df = pd.read_csv('../data/gameweeks_fpl.csv')"
   ]
  },
  {
   "cell_type": "code",
   "execution_count": 189,
   "metadata": {},
   "outputs": [],
   "source": [
    "df_matchlogs['code'].iloc[0] = 'code'\n",
    "df_matchlogs.iloc[0,30] += '_passes'\n",
    "df_matchlogs.iloc[0,35] += '_takeons'\n",
    "df_matchlogs.iloc[0,-8] += '_GK'\n",
    "df_matchlogs.iloc[0,-14] += '_Lounched'\n",
    "df_matchlogs.iloc[0,-15] += '_Lounched'\n",
    "df_matchlogs.iloc[0,-19] += '_GK'\n",
    "df_matchlogs.columns = df_matchlogs.iloc[0]\n",
    "df_matchlogs = df_matchlogs.drop(0)"
   ]
  },
  {
   "cell_type": "markdown",
   "metadata": {},
   "source": [
    "Change kickoff time to \"datetime\" type:"
   ]
  },
  {
   "cell_type": "code",
   "execution_count": 190,
   "metadata": {},
   "outputs": [],
   "source": [
    "df['kickoff_time'] = pd.to_datetime(df['kickoff_time'])\n",
    "df['Date'] = df['kickoff_time'].dt.date\n",
    "df['Date'] = pd.to_datetime(df[\"Date\"])\n",
    "df_matchlogs['Date'] = pd.to_datetime(df_matchlogs['Date'])"
   ]
  },
  {
   "cell_type": "markdown",
   "metadata": {},
   "source": [
    "Drop first columns (index):"
   ]
  },
  {
   "cell_type": "code",
   "execution_count": 191,
   "metadata": {},
   "outputs": [],
   "source": [
    "df = df.drop(\"Unnamed: 0\", axis=1)\n",
    "df_matchlogs = df_matchlogs.iloc[: , 1:]"
   ]
  },
  {
   "cell_type": "markdown",
   "metadata": {},
   "source": [
    "Merge DataFrames on code (unique for each player) and date to match game stats to FPL gameweek:"
   ]
  },
  {
   "cell_type": "code",
   "execution_count": 192,
   "metadata": {},
   "outputs": [],
   "source": [
    "df = df.merge(df_matchlogs, on=['code', 'Date'], how='left')"
   ]
  },
  {
   "cell_type": "markdown",
   "metadata": {},
   "source": [
    "Get rid of all records with 0 minutes (player not featured in a game):"
   ]
  },
  {
   "cell_type": "code",
   "execution_count": 193,
   "metadata": {},
   "outputs": [],
   "source": [
    "df = df[df['minutes'] != 0]"
   ]
  },
  {
   "cell_type": "markdown",
   "metadata": {},
   "source": [
    "See amount of \"N.A.\" values for each feature:"
   ]
  },
  {
   "cell_type": "code",
   "execution_count": 194,
   "metadata": {},
   "outputs": [
    {
     "data": {
      "text/plain": [
       "{'name': 0,\n",
       " 'position': 0,\n",
       " 'team': 0,\n",
       " 'xP': 0,\n",
       " 'assists': 0,\n",
       " 'bonus': 0,\n",
       " 'bps': 0,\n",
       " 'clean_sheets': 0,\n",
       " 'creativity': 0,\n",
       " 'element': 0,\n",
       " 'fixture': 0,\n",
       " 'goals_conceded': 0,\n",
       " 'goals_scored': 0,\n",
       " 'ict_index': 0,\n",
       " 'influence': 0,\n",
       " 'kickoff_time': 0,\n",
       " 'minutes': 0,\n",
       " 'opponent_team': 0,\n",
       " 'own_goals': 0,\n",
       " 'penalties_missed': 0,\n",
       " 'penalties_saved': 0,\n",
       " 'red_cards': 0,\n",
       " 'round': 0,\n",
       " 'saves': 0,\n",
       " 'selected': 0,\n",
       " 'team_a_score': 0,\n",
       " 'team_h_score': 0,\n",
       " 'threat': 0,\n",
       " 'total_points': 0,\n",
       " 'transfers_balance': 0,\n",
       " 'transfers_in': 0,\n",
       " 'transfers_out': 0,\n",
       " 'value': 0,\n",
       " 'was_home': 0,\n",
       " 'yellow_cards': 0,\n",
       " 'GW': 0,\n",
       " 'code': 0,\n",
       " 'expected_assists': 20878,\n",
       " 'expected_goal_involvements': 20878,\n",
       " 'expected_goals': 20878,\n",
       " 'expected_goals_conceded': 20878,\n",
       " 'starts': 20878,\n",
       " 'Date': 0,\n",
       " 'Day': 902,\n",
       " 'Comp': 902,\n",
       " 'Round': 902,\n",
       " 'Venue': 902,\n",
       " 'Result': 902,\n",
       " 'Squad': 902,\n",
       " 'Opponent': 902,\n",
       " 'Start': 902,\n",
       " 'Pos': 902,\n",
       " 'Min': 902,\n",
       " 'Gls': 3390,\n",
       " 'Ast': 3390,\n",
       " 'PK': 3390,\n",
       " 'PKatt': 3390,\n",
       " 'Sh': 3390,\n",
       " 'SoT': 3390,\n",
       " 'CrdY': 3390,\n",
       " 'CrdR': 3390,\n",
       " 'Touches': 3390,\n",
       " 'Tkl': 3390,\n",
       " 'Int': 3390,\n",
       " 'Blocks': 3390,\n",
       " 'xG': 3390,\n",
       " 'npxG': 3390,\n",
       " 'xAG': 3390,\n",
       " 'SCA': 3390,\n",
       " 'GCA': 3390,\n",
       " 'Cmp': 3390,\n",
       " 'Att_passes': 3390,\n",
       " 'Cmp%': 37499,\n",
       " 'PrgP': 3390,\n",
       " 'Carries': 3390,\n",
       " 'PrgC': 3390,\n",
       " 'Att_takeons': 3390,\n",
       " 'Succ': 3390,\n",
       " 'Match Report': 902,\n",
       " 'SoTA': 37499,\n",
       " 'GA': 37499,\n",
       " 'Saves': 37499,\n",
       " 'Save%': 37499,\n",
       " 'CS': 37499,\n",
       " 'PSxG': 37499,\n",
       " 'PKatt_GK': 37499,\n",
       " 'PKA': 37499,\n",
       " 'PKsv': 37499,\n",
       " 'PKm': 37499,\n",
       " 'Cmp_Lounched': 37499,\n",
       " 'Att_Lounched': 37499,\n",
       " 'Att (GK)': 37499,\n",
       " 'Thr': 37499,\n",
       " 'Launch%': 37499,\n",
       " 'AvgLen': 37499,\n",
       " 'Att_GK': 37499,\n",
       " 'Opp': 37499,\n",
       " 'Stp': 37499,\n",
       " 'Stp%': 37499,\n",
       " '#OPA': 37499,\n",
       " 'AvgDist': 37499}"
      ]
     },
     "execution_count": 194,
     "metadata": {},
     "output_type": "execute_result"
    }
   ],
   "source": [
    "df.isna().sum().to_dict()"
   ]
  },
  {
   "cell_type": "markdown",
   "metadata": {},
   "source": [
    "Drop incomplete records (902): "
   ]
  },
  {
   "cell_type": "code",
   "execution_count": 195,
   "metadata": {},
   "outputs": [],
   "source": [
    "df.dropna(subset=['Start'], inplace=True)"
   ]
  },
  {
   "cell_type": "code",
   "execution_count": 196,
   "metadata": {},
   "outputs": [
    {
     "data": {
      "text/plain": [
       "{'name': 0,\n",
       " 'position': 0,\n",
       " 'team': 0,\n",
       " 'xP': 0,\n",
       " 'assists': 0,\n",
       " 'bonus': 0,\n",
       " 'bps': 0,\n",
       " 'clean_sheets': 0,\n",
       " 'creativity': 0,\n",
       " 'element': 0,\n",
       " 'fixture': 0,\n",
       " 'goals_conceded': 0,\n",
       " 'goals_scored': 0,\n",
       " 'ict_index': 0,\n",
       " 'influence': 0,\n",
       " 'kickoff_time': 0,\n",
       " 'minutes': 0,\n",
       " 'opponent_team': 0,\n",
       " 'own_goals': 0,\n",
       " 'penalties_missed': 0,\n",
       " 'penalties_saved': 0,\n",
       " 'red_cards': 0,\n",
       " 'round': 0,\n",
       " 'saves': 0,\n",
       " 'selected': 0,\n",
       " 'team_a_score': 0,\n",
       " 'team_h_score': 0,\n",
       " 'threat': 0,\n",
       " 'total_points': 0,\n",
       " 'transfers_balance': 0,\n",
       " 'transfers_in': 0,\n",
       " 'transfers_out': 0,\n",
       " 'value': 0,\n",
       " 'was_home': 0,\n",
       " 'yellow_cards': 0,\n",
       " 'GW': 0,\n",
       " 'code': 0,\n",
       " 'expected_assists': 20447,\n",
       " 'expected_goal_involvements': 20447,\n",
       " 'expected_goals': 20447,\n",
       " 'expected_goals_conceded': 20447,\n",
       " 'starts': 20447,\n",
       " 'Date': 0,\n",
       " 'Day': 0,\n",
       " 'Comp': 0,\n",
       " 'Round': 0,\n",
       " 'Venue': 0,\n",
       " 'Result': 0,\n",
       " 'Squad': 0,\n",
       " 'Opponent': 0,\n",
       " 'Start': 0,\n",
       " 'Pos': 0,\n",
       " 'Min': 0,\n",
       " 'Gls': 2488,\n",
       " 'Ast': 2488,\n",
       " 'PK': 2488,\n",
       " 'PKatt': 2488,\n",
       " 'Sh': 2488,\n",
       " 'SoT': 2488,\n",
       " 'CrdY': 2488,\n",
       " 'CrdR': 2488,\n",
       " 'Touches': 2488,\n",
       " 'Tkl': 2488,\n",
       " 'Int': 2488,\n",
       " 'Blocks': 2488,\n",
       " 'xG': 2488,\n",
       " 'npxG': 2488,\n",
       " 'xAG': 2488,\n",
       " 'SCA': 2488,\n",
       " 'GCA': 2488,\n",
       " 'Cmp': 2488,\n",
       " 'Att_passes': 2488,\n",
       " 'Cmp%': 36597,\n",
       " 'PrgP': 2488,\n",
       " 'Carries': 2488,\n",
       " 'PrgC': 2488,\n",
       " 'Att_takeons': 2488,\n",
       " 'Succ': 2488,\n",
       " 'Match Report': 0,\n",
       " 'SoTA': 36597,\n",
       " 'GA': 36597,\n",
       " 'Saves': 36597,\n",
       " 'Save%': 36597,\n",
       " 'CS': 36597,\n",
       " 'PSxG': 36597,\n",
       " 'PKatt_GK': 36597,\n",
       " 'PKA': 36597,\n",
       " 'PKsv': 36597,\n",
       " 'PKm': 36597,\n",
       " 'Cmp_Lounched': 36597,\n",
       " 'Att_Lounched': 36597,\n",
       " 'Att (GK)': 36597,\n",
       " 'Thr': 36597,\n",
       " 'Launch%': 36597,\n",
       " 'AvgLen': 36597,\n",
       " 'Att_GK': 36597,\n",
       " 'Opp': 36597,\n",
       " 'Stp': 36597,\n",
       " 'Stp%': 36597,\n",
       " '#OPA': 36597,\n",
       " 'AvgDist': 36597}"
      ]
     },
     "execution_count": 196,
     "metadata": {},
     "output_type": "execute_result"
    }
   ],
   "source": [
    "df.isna().sum().to_dict()"
   ]
  },
  {
   "cell_type": "code",
   "execution_count": 197,
   "metadata": {},
   "outputs": [
    {
     "data": {
      "text/plain": [
       "<Axes: >"
      ]
     },
     "execution_count": 197,
     "metadata": {},
     "output_type": "execute_result"
    },
    {
     "data": {
      "image/png": "[encoded data removed]",
      "text/plain": [
       "<Figure size 640x480 with 1 Axes>"
      ]
     },
     "metadata": {},
     "output_type": "display_data"
    }
   ],
   "source": [
    "df['total_points'].hist()"
   ]
  },
  {
   "cell_type": "markdown",
   "metadata": {},
   "source": [
    "Get rid of irrelevant or duplicated features: "
   ]
  },
  {
   "cell_type": "code",
   "execution_count": 198,
   "metadata": {},
   "outputs": [],
   "source": [
    "df.drop(['team', 'xP', 'element', 'fixture', 'Date', 'kickoff_time', 'opponent_team', 'round', 'selected', 'team_a_score', 'team_h_score','transfers_balance', \n",
    "         'transfers_in', 'transfers_out', 'code', 'expected_assists', 'expected_goal_involvements', 'expected_goals', 'expected_goals_conceded',\n",
    "         'starts', 'Comp', 'Round', 'Venue', 'Result', 'Min', 'Gls', 'Ast', 'Match Report', 'Pos', 'Day'], axis=1, inplace=True)"
   ]
  },
  {
   "cell_type": "markdown",
   "metadata": {},
   "source": [
    "Now only na values are in numerical columns, so we fill them with 0:"
   ]
  },
  {
   "cell_type": "code",
   "execution_count": 199,
   "metadata": {},
   "outputs": [],
   "source": [
    "df.fillna(0, inplace=True)"
   ]
  },
  {
   "cell_type": "code",
   "execution_count": 200,
   "metadata": {},
   "outputs": [
    {
     "data": {
      "text/plain": [
       "{'name': 0,\n",
       " 'position': 0,\n",
       " 'assists': 0,\n",
       " 'bonus': 0,\n",
       " 'bps': 0,\n",
       " 'clean_sheets': 0,\n",
       " 'creativity': 0,\n",
       " 'goals_conceded': 0,\n",
       " 'goals_scored': 0,\n",
       " 'ict_index': 0,\n",
       " 'influence': 0,\n",
       " 'minutes': 0,\n",
       " 'own_goals': 0,\n",
       " 'penalties_missed': 0,\n",
       " 'penalties_saved': 0,\n",
       " 'red_cards': 0,\n",
       " 'saves': 0,\n",
       " 'threat': 0,\n",
       " 'total_points': 0,\n",
       " 'value': 0,\n",
       " 'was_home': 0,\n",
       " 'yellow_cards': 0,\n",
       " 'GW': 0,\n",
       " 'Squad': 0,\n",
       " 'Opponent': 0,\n",
       " 'Start': 0,\n",
       " 'PK': 0,\n",
       " 'PKatt': 0,\n",
       " 'Sh': 0,\n",
       " 'SoT': 0,\n",
       " 'CrdY': 0,\n",
       " 'CrdR': 0,\n",
       " 'Touches': 0,\n",
       " 'Tkl': 0,\n",
       " 'Int': 0,\n",
       " 'Blocks': 0,\n",
       " 'xG': 0,\n",
       " 'npxG': 0,\n",
       " 'xAG': 0,\n",
       " 'SCA': 0,\n",
       " 'GCA': 0,\n",
       " 'Cmp': 0,\n",
       " 'Att_passes': 0,\n",
       " 'Cmp%': 0,\n",
       " 'PrgP': 0,\n",
       " 'Carries': 0,\n",
       " 'PrgC': 0,\n",
       " 'Att_takeons': 0,\n",
       " 'Succ': 0,\n",
       " 'SoTA': 0,\n",
       " 'GA': 0,\n",
       " 'Saves': 0,\n",
       " 'Save%': 0,\n",
       " 'CS': 0,\n",
       " 'PSxG': 0,\n",
       " 'PKatt_GK': 0,\n",
       " 'PKA': 0,\n",
       " 'PKsv': 0,\n",
       " 'PKm': 0,\n",
       " 'Cmp_Lounched': 0,\n",
       " 'Att_Lounched': 0,\n",
       " 'Att (GK)': 0,\n",
       " 'Thr': 0,\n",
       " 'Launch%': 0,\n",
       " 'AvgLen': 0,\n",
       " 'Att_GK': 0,\n",
       " 'Opp': 0,\n",
       " 'Stp': 0,\n",
       " 'Stp%': 0,\n",
       " '#OPA': 0,\n",
       " 'AvgDist': 0}"
      ]
     },
     "execution_count": 200,
     "metadata": {},
     "output_type": "execute_result"
    }
   ],
   "source": [
    "df.isna().sum().to_dict()"
   ]
  },
  {
   "cell_type": "markdown",
   "metadata": {},
   "source": [
    "Replace numeric stats with a sum from previous 5 games, e.g. assists -> sum of assists from last 5 games:"
   ]
  },
  {
   "cell_type": "code",
   "execution_count": 201,
   "metadata": {},
   "outputs": [
    {
     "data": {
      "text/plain": [
       "Index(['name', 'position', 'assists', 'bonus', 'bps', 'clean_sheets',\n",
       "       'creativity', 'goals_conceded', 'goals_scored', 'ict_index',\n",
       "       'influence', 'minutes', 'own_goals', 'penalties_missed',\n",
       "       'penalties_saved', 'red_cards', 'saves', 'threat', 'total_points',\n",
       "       'value', 'was_home', 'yellow_cards', 'GW', 'Squad', 'Opponent', 'Start',\n",
       "       'PK', 'PKatt', 'Sh', 'SoT', 'CrdY', 'CrdR', 'Touches', 'Tkl', 'Int',\n",
       "       'Blocks', 'xG', 'npxG', 'xAG', 'SCA', 'GCA', 'Cmp', 'Att_passes',\n",
       "       'Cmp%', 'PrgP', 'Carries', 'PrgC', 'Att_takeons', 'Succ', 'SoTA', 'GA',\n",
       "       'Saves', 'Save%', 'CS', 'PSxG', 'PKatt_GK', 'PKA', 'PKsv', 'PKm',\n",
       "       'Cmp_Lounched', 'Att_Lounched', 'Cmp%', 'Att (GK)', 'Thr', 'Launch%',\n",
       "       'AvgLen', 'Att_GK', 'Launch%', 'AvgLen', 'Opp', 'Stp', 'Stp%', '#OPA',\n",
       "       'AvgDist'],\n",
       "      dtype='object')"
      ]
     },
     "execution_count": 201,
     "metadata": {},
     "output_type": "execute_result"
    }
   ],
   "source": [
    "df.columns"
   ]
  },
  {
   "cell_type": "code",
   "execution_count": 202,
   "metadata": {},
   "outputs": [],
   "source": [
    "df['gw_points'] = df['total_points']\n",
    "rolling_features_sum = [\n",
    "    'assists',\n",
    "    'bonus',\n",
    "    'bps',\n",
    "    'clean_sheets',\n",
    "    'goals_conceded',\n",
    "    'goals_scored',\n",
    "    'minutes',\n",
    "    'own_goals',\n",
    "    'penalties_missed',\n",
    "    'penalties_saved',\n",
    "    'red_cards',\n",
    "    'saves',\n",
    "    'total_points',\n",
    "    'yellow_cards',\n",
    "    'PK',\n",
    "    'PKatt',\n",
    "    'Sh',\n",
    "    'SoT',\n",
    "    'CrdY',\n",
    "    'CrdR',\n",
    "    'Touches',\n",
    "    'Tkl',\n",
    "    'Int',\n",
    "    'Blocks',\n",
    "    'xG',\n",
    "    'npxG',\n",
    "    'xAG',\n",
    "    'SCA',\n",
    "    'GCA',\n",
    "    'Cmp',\n",
    "    'PrgP',\n",
    "    'Carries',\n",
    "    'PrgC',\n",
    "    'Succ',\n",
    "    'SoTA',\n",
    "    'GA',\n",
    "    'Saves',\n",
    "    'CS',\n",
    "    'PSxG',\n",
    "    'PKA',\n",
    "    'PKsv',\n",
    "    'PKm',\n",
    "    'Att (GK)',\n",
    "    'Thr',\n",
    "    'Opp',\n",
    "    'Stp',\n",
    "    '#OPA',\n",
    "    'Att_passes',\n",
    "    'Att_takeons',\n",
    "    'PKatt_GK',\n",
    "    'Cmp_Lounched',\n",
    "    'Att_Lounched',\n",
    "    'Att_GK']\n",
    "\n",
    "rolling_features_mean = [\n",
    "    'Cmp%',\n",
    "    'Save%',\n",
    "    'Launch%',\n",
    "    'AvgLen',\n",
    "    'Stp%',\n",
    "    'AvgDist']\n",
    "\n",
    "for feature in rolling_features_sum:\n",
    "    # print(feature, type(df[feature]))\n",
    "    df.replace('On matchday squad, but did not play', 0, inplace=True)\n",
    "    df[feature] = df[feature].astype(float)\n",
    "    df[feature] = df.groupby('name')[feature].rolling(window=5, min_periods=1, closed='left').sum().reset_index(level=0, drop=True)\n",
    "\n",
    "for feature in rolling_features_mean:\n",
    "#     print(df[feature].dtype)\n",
    "    df[feature] = df[feature].astype(float)\n",
    "    df[feature] = df.groupby('name')[feature].rolling(window=5, min_periods=1, closed='left').mean().reset_index(level=0, drop=True)"
   ]
  },
  {
   "cell_type": "code",
   "execution_count": 203,
   "metadata": {},
   "outputs": [],
   "source": [
    "df.dropna(inplace=True)"
   ]
  },
  {
   "cell_type": "code",
   "execution_count": 204,
   "metadata": {},
   "outputs": [],
   "source": [
    "df['was_home'] = df['was_home'].astype(int)\n",
    "\n",
    "def categorical_to_dummies(df, feature):\n",
    "    # get the dummies and store it in a variable\n",
    "    dummies = pd.get_dummies(df[feature], prefix=feature)\n",
    "    dummies = dummies.astype(int)\n",
    "    \n",
    "    # Concatenate the dummies to original dataframe\n",
    "    merged = pd.concat([df, dummies], axis='columns')\n",
    "    \n",
    "    # drop the values\n",
    "    merged.drop(feature, axis='columns', inplace=True)\n",
    "\n",
    "    return merged\n",
    "\n",
    "# df = categorical_to_dummies(df, 'name')\n",
    "df = categorical_to_dummies(df, 'position')\n",
    "df = categorical_to_dummies(df, 'Squad')\n",
    "df = categorical_to_dummies(df, 'Opponent')\n"
   ]
  },
  {
   "cell_type": "code",
   "execution_count": 205,
   "metadata": {},
   "outputs": [
    {
     "data": {
      "text/plain": [
       "['name',\n",
       " 'assists',\n",
       " 'bonus',\n",
       " 'bps',\n",
       " 'clean_sheets',\n",
       " 'creativity',\n",
       " 'goals_conceded',\n",
       " 'goals_scored',\n",
       " 'ict_index',\n",
       " 'influence',\n",
       " 'minutes',\n",
       " 'own_goals',\n",
       " 'penalties_missed',\n",
       " 'penalties_saved',\n",
       " 'red_cards',\n",
       " 'saves',\n",
       " 'threat',\n",
       " 'total_points',\n",
       " 'value',\n",
       " 'was_home',\n",
       " 'yellow_cards',\n",
       " 'GW',\n",
       " 'Start',\n",
       " 'PK',\n",
       " 'PKatt',\n",
       " 'Sh',\n",
       " 'SoT',\n",
       " 'CrdY',\n",
       " 'CrdR',\n",
       " 'Touches',\n",
       " 'Tkl',\n",
       " 'Int',\n",
       " 'Blocks',\n",
       " 'xG',\n",
       " 'npxG',\n",
       " 'xAG',\n",
       " 'SCA',\n",
       " 'GCA',\n",
       " 'Cmp',\n",
       " 'Att_passes',\n",
       " 'Cmp%',\n",
       " 'PrgP',\n",
       " 'Carries',\n",
       " 'PrgC',\n",
       " 'Att_takeons',\n",
       " 'Succ',\n",
       " 'SoTA',\n",
       " 'GA',\n",
       " 'Saves',\n",
       " 'Save%',\n",
       " 'CS',\n",
       " 'PSxG',\n",
       " 'PKatt_GK',\n",
       " 'PKA',\n",
       " 'PKsv',\n",
       " 'PKm',\n",
       " 'Cmp_Lounched',\n",
       " 'Att_Lounched',\n",
       " 'Cmp%',\n",
       " 'Att (GK)',\n",
       " 'Thr',\n",
       " 'Launch%',\n",
       " 'AvgLen',\n",
       " 'Att_GK',\n",
       " 'Launch%',\n",
       " 'AvgLen',\n",
       " 'Opp',\n",
       " 'Stp',\n",
       " 'Stp%',\n",
       " '#OPA',\n",
       " 'AvgDist',\n",
       " 'gw_points',\n",
       " 'position_DEF',\n",
       " 'position_FWD',\n",
       " 'position_GK',\n",
       " 'position_GKP',\n",
       " 'position_MID',\n",
       " 'Squad_Arsenal',\n",
       " 'Squad_Aston Villa',\n",
       " 'Squad_Bournemouth',\n",
       " 'Squad_Brentford',\n",
       " 'Squad_Brighton',\n",
       " 'Squad_Burnley',\n",
       " 'Squad_Chelsea',\n",
       " 'Squad_Crystal Palace',\n",
       " 'Squad_Everton',\n",
       " 'Squad_Fulham',\n",
       " 'Squad_Leeds United',\n",
       " 'Squad_Leicester City',\n",
       " 'Squad_Liverpool',\n",
       " 'Squad_Luton Town',\n",
       " 'Squad_Manchester City',\n",
       " 'Squad_Manchester Utd',\n",
       " 'Squad_Newcastle Utd',\n",
       " 'Squad_Norwich City',\n",
       " \"Squad_Nott'ham Forest\",\n",
       " 'Squad_Sheffield Utd',\n",
       " 'Squad_Southampton',\n",
       " 'Squad_Spezia',\n",
       " 'Squad_Tottenham',\n",
       " 'Squad_Watford',\n",
       " 'Squad_West Brom',\n",
       " 'Squad_West Ham',\n",
       " 'Squad_Wolves',\n",
       " 'Opponent_Arsenal',\n",
       " 'Opponent_Ascoli',\n",
       " 'Opponent_Aston Villa',\n",
       " 'Opponent_Bournemouth',\n",
       " 'Opponent_Brentford',\n",
       " 'Opponent_Brighton',\n",
       " 'Opponent_Burnley',\n",
       " 'Opponent_Chelsea',\n",
       " 'Opponent_Crystal Palace',\n",
       " 'Opponent_Everton',\n",
       " 'Opponent_Fulham',\n",
       " 'Opponent_Leeds United',\n",
       " 'Opponent_Leicester City',\n",
       " 'Opponent_Liverpool',\n",
       " 'Opponent_Luton Town',\n",
       " 'Opponent_Manchester City',\n",
       " 'Opponent_Manchester Utd',\n",
       " 'Opponent_Newcastle Utd',\n",
       " 'Opponent_Norwich City',\n",
       " \"Opponent_Nott'ham Forest\",\n",
       " 'Opponent_Sheffield Utd',\n",
       " 'Opponent_Southampton',\n",
       " 'Opponent_Tottenham',\n",
       " 'Opponent_Watford',\n",
       " 'Opponent_West Brom',\n",
       " 'Opponent_West Ham',\n",
       " 'Opponent_Wolves']"
      ]
     },
     "execution_count": 205,
     "metadata": {},
     "output_type": "execute_result"
    }
   ],
   "source": [
    "df.columns.to_list()"
   ]
  },
  {
   "cell_type": "code",
   "execution_count": 206,
   "metadata": {},
   "outputs": [],
   "source": [
    "df.drop('name', axis=1, inplace=True)\n",
    "df.Start = df.Start.replace({\"Y\":1, \"Y*\":1, \"N\":0})"
   ]
  },
  {
   "cell_type": "code",
   "execution_count": null,
   "metadata": {},
   "outputs": [
    {
     "data": {
      "text/plain": [
       "{'name': dtype('O'),\n",
       " 'assists': dtype('float64'),\n",
       " 'bonus': dtype('float64'),\n",
       " 'bps': dtype('float64'),\n",
       " 'clean_sheets': dtype('float64'),\n",
       " 'creativity': dtype('float64'),\n",
       " 'goals_conceded': dtype('float64'),\n",
       " 'goals_scored': dtype('float64'),\n",
       " 'ict_index': dtype('float64'),\n",
       " 'influence': dtype('float64'),\n",
       " 'minutes': dtype('float64'),\n",
       " 'own_goals': dtype('float64'),\n",
       " 'penalties_missed': dtype('float64'),\n",
       " 'penalties_saved': dtype('float64'),\n",
       " 'red_cards': dtype('float64'),\n",
       " 'saves': dtype('float64'),\n",
       " 'threat': dtype('float64'),\n",
       " 'total_points': dtype('float64'),\n",
       " 'value': dtype('int64'),\n",
       " 'was_home': dtype('int32'),\n",
       " 'yellow_cards': dtype('float64'),\n",
       " 'GW': dtype('int64'),\n",
       " 'Start': dtype('int64'),\n",
       " 'PK': dtype('float64'),\n",
       " 'PKatt': dtype('float64'),\n",
       " 'Sh': dtype('float64'),\n",
       " 'SoT': dtype('float64'),\n",
       " 'CrdY': dtype('float64'),\n",
       " 'CrdR': dtype('float64'),\n",
       " 'Touches': dtype('float64'),\n",
       " 'Tkl': dtype('float64'),\n",
       " 'Int': dtype('float64'),\n",
       " 'Blocks': dtype('float64'),\n",
       " 'xG': dtype('float64'),\n",
       " 'npxG': dtype('float64'),\n",
       " 'xAG': dtype('float64'),\n",
       " 'SCA': dtype('float64'),\n",
       " 'GCA': dtype('float64'),\n",
       " 'Cmp': dtype('float64'),\n",
       " 'Att_passes': dtype('float64'),\n",
       " 'Cmp%': dtype('float64'),\n",
       " 'PrgP': dtype('float64'),\n",
       " 'Carries': dtype('float64'),\n",
       " 'PrgC': dtype('float64'),\n",
       " 'Att_takeons': dtype('float64'),\n",
       " 'Succ': dtype('float64'),\n",
       " 'SoTA': dtype('float64'),\n",
       " 'GA': dtype('float64'),\n",
       " 'Saves': dtype('float64'),\n",
       " 'Save%': dtype('float64'),\n",
       " 'CS': dtype('float64'),\n",
       " 'PSxG': dtype('float64'),\n",
       " 'PKatt_GK': dtype('float64'),\n",
       " 'PKA': dtype('float64'),\n",
       " 'PKsv': dtype('float64'),\n",
       " 'PKm': dtype('float64'),\n",
       " 'Cmp_Lounched': dtype('float64'),\n",
       " 'Att_Lounched': dtype('float64'),\n",
       " 'Att (GK)': dtype('float64'),\n",
       " 'Thr': dtype('float64'),\n",
       " 'Launch%': dtype('float64'),\n",
       " 'AvgLen': dtype('float64'),\n",
       " 'Att_GK': dtype('float64'),\n",
       " 'Opp': dtype('float64'),\n",
       " 'Stp': dtype('float64'),\n",
       " 'Stp%': dtype('float64'),\n",
       " '#OPA': dtype('float64'),\n",
       " 'AvgDist': dtype('float64'),\n",
       " 'position_DEF': dtype('int32'),\n",
       " 'position_FWD': dtype('int32'),\n",
       " 'position_GK': dtype('int32'),\n",
       " 'position_GKP': dtype('int32'),\n",
       " 'position_MID': dtype('int32'),\n",
       " 'Squad_Arsenal': dtype('int32'),\n",
       " 'Squad_Aston Villa': dtype('int32'),\n",
       " 'Squad_Bournemouth': dtype('int32'),\n",
       " 'Squad_Brentford': dtype('int32'),\n",
       " 'Squad_Brighton': dtype('int32'),\n",
       " 'Squad_Burnley': dtype('int32'),\n",
       " 'Squad_Chelsea': dtype('int32'),\n",
       " 'Squad_Crystal Palace': dtype('int32'),\n",
       " 'Squad_Everton': dtype('int32'),\n",
       " 'Squad_Fulham': dtype('int32'),\n",
       " 'Squad_Leeds United': dtype('int32'),\n",
       " 'Squad_Leicester City': dtype('int32'),\n",
       " 'Squad_Liverpool': dtype('int32'),\n",
       " 'Squad_Luton Town': dtype('int32'),\n",
       " 'Squad_Manchester City': dtype('int32'),\n",
       " 'Squad_Manchester Utd': dtype('int32'),\n",
       " 'Squad_Newcastle Utd': dtype('int32'),\n",
       " 'Squad_Norwich City': dtype('int32'),\n",
       " \"Squad_Nott'ham Forest\": dtype('int32'),\n",
       " 'Squad_Sheffield Utd': dtype('int32'),\n",
       " 'Squad_Southampton': dtype('int32'),\n",
       " 'Squad_Spezia': dtype('int32'),\n",
       " 'Squad_Tottenham': dtype('int32'),\n",
       " 'Squad_Watford': dtype('int32'),\n",
       " 'Squad_West Brom': dtype('int32'),\n",
       " 'Squad_West Ham': dtype('int32'),\n",
       " 'Squad_Wolves': dtype('int32'),\n",
       " 'Opponent_Arsenal': dtype('int32'),\n",
       " 'Opponent_Ascoli': dtype('int32'),\n",
       " 'Opponent_Aston Villa': dtype('int32'),\n",
       " 'Opponent_Bournemouth': dtype('int32'),\n",
       " 'Opponent_Brentford': dtype('int32'),\n",
       " 'Opponent_Brighton': dtype('int32'),\n",
       " 'Opponent_Burnley': dtype('int32'),\n",
       " 'Opponent_Chelsea': dtype('int32'),\n",
       " 'Opponent_Crystal Palace': dtype('int32'),\n",
       " 'Opponent_Everton': dtype('int32'),\n",
       " 'Opponent_Fulham': dtype('int32'),\n",
       " 'Opponent_Leeds United': dtype('int32'),\n",
       " 'Opponent_Leicester City': dtype('int32'),\n",
       " 'Opponent_Liverpool': dtype('int32'),\n",
       " 'Opponent_Luton Town': dtype('int32'),\n",
       " 'Opponent_Manchester City': dtype('int32'),\n",
       " 'Opponent_Manchester Utd': dtype('int32'),\n",
       " 'Opponent_Newcastle Utd': dtype('int32'),\n",
       " 'Opponent_Norwich City': dtype('int32'),\n",
       " \"Opponent_Nott'ham Forest\": dtype('int32'),\n",
       " 'Opponent_Sheffield Utd': dtype('int32'),\n",
       " 'Opponent_Southampton': dtype('int32'),\n",
       " 'Opponent_Tottenham': dtype('int32'),\n",
       " 'Opponent_Watford': dtype('int32'),\n",
       " 'Opponent_West Brom': dtype('int32'),\n",
       " 'Opponent_West Ham': dtype('int32'),\n",
       " 'Opponent_Wolves': dtype('int32')}"
      ]
     },
     "execution_count": 96,
     "metadata": {},
     "output_type": "execute_result"
    }
   ],
   "source": [
    "df.dtypes.to_dict()"
   ]
  },
  {
   "cell_type": "markdown",
   "metadata": {},
   "source": [
    "# Train model"
   ]
  },
  {
   "cell_type": "code",
   "execution_count": 139,
   "metadata": {},
   "outputs": [],
   "source": [
    "import keras\n",
    "import numpy as np\n",
    "import pandas as pd\n",
    "from hyperopt import STATUS_OK, Trials, fmin, hp, tpe\n",
    "from sklearn.metrics import mean_squared_error\n",
    "from sklearn.model_selection import train_test_split\n",
    "from sklearn.preprocessing import MinMaxScaler\n",
    "\n",
    "import mlflow\n",
    "from mlflow.models import infer_signature"
   ]
  },
  {
   "cell_type": "code",
   "execution_count": 140,
   "metadata": {},
   "outputs": [],
   "source": [
    "train, test = train_test_split(df, test_size=0.25, random_state=42, shuffle=True)"
   ]
  },
  {
   "cell_type": "code",
   "execution_count": null,
   "metadata": {},
   "outputs": [],
   "source": []
  }
 ],
 "metadata": {
  "kernelspec": {
   "display_name": "venv",
   "language": "python",
   "name": "python3"
  },
  "language_info": {
   "codemirror_mode": {
    "name": "ipython",
    "version": 3
   },
   "file_extension": ".py",
   "mimetype": "text/x-python",
   "name": "python",
   "nbconvert_exporter": "python",
   "pygments_lexer": "ipython3",
   "version": "3.11.0"
  }
 },
 "nbformat": 4,
 "nbformat_minor": 2
}
